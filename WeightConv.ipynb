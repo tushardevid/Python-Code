{
 "cells": [
  {
   "cell_type": "code",
   "execution_count": 1,
   "metadata": {},
   "outputs": [
    {
     "name": "stdout",
     "output_type": "stream",
     "text": [
      "Hello !! Welcome\n",
      "\n",
      "\n",
      "Please enter your weight in kilogram 57\n",
      "your weight in pound is :  125.66348934\n"
     ]
    }
   ],
   "source": [
    "print('Hello !! Welcome')\n",
    "print(\"\\n\")\n",
    "Weight = input(\"Please enter your weight in kilogram \")\n",
    "Weight_in_pound = float(Weight) * 2.20462262\n",
    "print(\"your weight in pound is : \" , Weight_in_pound)"
   ]
  },
  {
   "cell_type": "code",
   "execution_count": null,
   "metadata": {
    "collapsed": true
   },
   "outputs": [],
   "source": []
  }
 ],
 "metadata": {
  "kernelspec": {
   "display_name": "Python 3",
   "language": "python",
   "name": "python3"
  },
  "language_info": {
   "codemirror_mode": {
    "name": "ipython",
    "version": 3
   },
   "file_extension": ".py",
   "mimetype": "text/x-python",
   "name": "python",
   "nbconvert_exporter": "python",
   "pygments_lexer": "ipython3",
   "version": "3.6.1"
  }
 },
 "nbformat": 4,
 "nbformat_minor": 2
}
